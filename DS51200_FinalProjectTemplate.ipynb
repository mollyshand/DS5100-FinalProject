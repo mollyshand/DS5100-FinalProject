{
 "cells": [
  {
   "cell_type": "markdown",
   "id": "45762487-d33f-486d-8e38-2cdea04e3528",
   "metadata": {},
   "source": [
    "# Final Project Report\n",
    "\n",
    "* Class: DS 5100\n",
    "* Student Name: Molly Shand\n",
    "* Student Net ID: sth5nz\n",
    "* This URL: a URL to the notebook source of this document"
   ]
  },
  {
   "cell_type": "markdown",
   "id": "acf756c1-ecaa-41dc-b6ca-d566eb94560b",
   "metadata": {},
   "source": [
    "# Instructions\n",
    "\n",
    "Follow the instructions in the Final Project isntructions notebook and put evidence of your work in this notebook.\n",
    "\n",
    "Total points for each subsection under **Deliverables** and **Scenarios** are given in parentheses.\n",
    "\n",
    "Breakdowns of points within subsections are specified within subsection instructions as bulleted lists.\n",
    "\n",
    "This project is worth **50 points**."
   ]
  },
  {
   "cell_type": "markdown",
   "id": "89dc7a32-f682-4402-8c1e-b6ccdb3e0e39",
   "metadata": {},
   "source": [
    "# Deliverables"
   ]
  },
  {
   "cell_type": "markdown",
   "id": "d32cb273-9a40-4909-a7ce-51f6e4958d3c",
   "metadata": {},
   "source": [
    "## The Monte Carlo Module (10)\n",
    "\n",
    "- URL included, appropriately named (1).\n",
    "- Includes all three specified classes (3).\n",
    "- Includes at least all 12 specified methods (6; .5 each)."
   ]
  },
  {
   "cell_type": "markdown",
   "id": "f5f3b070-de9e-4de9-bfae-8974d184aa28",
   "metadata": {},
   "source": [
    "Put the URL to your GitHub repo here.\n",
    "\n",
    "Repo URL: https://github.com/mollyshand/DS5100-FinalProject"
   ]
  },
  {
   "cell_type": "markdown",
   "id": "162370fb-3729-4c85-b040-8c25b2c966d2",
   "metadata": {},
   "source": [
    "Paste a copyy of your module here.\n",
    "\n",
    "NOTE: Paste as text, not as code. Use triple backticks to wrap your code blocks."
   ]
  },
  {
   "cell_type": "markdown",
   "id": "19802475-8420-43ed-aea1-bda34adaf7f1",
   "metadata": {},
   "source": [
    "```\n",
    "import numpy as np\n",
    "import pandas as pd\n",
    "```\n",
    "```\n",
    "class Die:\n",
    "    \"\"\"\n",
    "    A die with N faces, each with a weight.\n",
    "    \n",
    "   Attributes:\n",
    "       _df(DataFrame) : Internal data frame with faces as index and weights as the columns.\n",
    "    \"\"\"\n",
    "    \n",
    "    def __init__(self, faces: np.ndarray):\n",
    "        \"\"\" \n",
    "        Initialized the die with a NumPy array of faces.\n",
    "    \n",
    "        Arguments:\n",
    "            faces (np.ndarray): An array of unique face values (Can be numeric or string).\n",
    "    \n",
    "        Raises: \n",
    "            TypeError: If input is not a NumPy array.\n",
    "            ValueError: If array elements are not unique.\n",
    "        \n",
    "        \"\"\"\n",
    "        if not isinstance(faces, np.ndarray):\n",
    "            raise TypeError(\"Faces must be a NumPy array.\")\n",
    "        if len(np.unique(faces)) != len(faces):\n",
    "            raise ValueError(\"Faces must be unique.\")\n",
    "            \n",
    "        self._df = pd.DataFrame({\n",
    "        'face': faces,\n",
    "        'weight': np.ones(len(faces), dtype = float) }).set_index('face')\n",
    "    \n",
    "    def change_weight(self, face, weight):\n",
    "        \"\"\"\n",
    "        Changes the weight of a specific face.\n",
    "    \n",
    "        Arguments:\n",
    "            face: A face value in the die.\n",
    "            weight: A numeric value.\n",
    "    \n",
    "        Raises:\n",
    "            IndexError: If the face is not in the die.\n",
    "            Type Error: If the weight is not numeric.\n",
    "        \"\"\"\n",
    "    \n",
    "        if face not in self._df.index:\n",
    "            raise IndexError(\"Face not found in die.\")\n",
    "        try: \n",
    "            weight = float(weight)\n",
    "        except (ValueError, TypeError):\n",
    "            raise TypeError(\"Weight must be a numeric value.\")\n",
    "            \n",
    "        self._df.at[face, 'weight'] = weight\n",
    "        \n",
    "    def roll(self, n_rolls = 1):\n",
    "        \"\"\"\n",
    "        Rolls the die n times using the current weights.\n",
    "    \n",
    "        Arguments:\n",
    "            n_rolls (int): Number of times to roll (default = 1).\n",
    "        \n",
    "        Returns:\n",
    "            list: List of outcomes.\n",
    "        \"\"\"\n",
    "    \n",
    "        return list(self._df.sample(n = n_rolls, replace = True, weights = 'weight').index)\n",
    "    \n",
    "    def show(self):\n",
    "        \"\"\"\n",
    "        Shows current faces and weights of the die.\n",
    "    \n",
    "        Returns:\n",
    "            DataFrame: copy of internal state.\n",
    "        \"\"\"\n",
    "    \n",
    "        return self._df.copy()\n",
    "```  \n",
    "\n",
    "```   \n",
    "class Game:\n",
    "    \"\"\"\n",
    "    A game consists of rolling one or more dice 1+ times.\n",
    "    \n",
    "    Attributes:\n",
    "        _dice (list): List of die objects.\n",
    "        _results (DataFrame): Data frame storing results of the most recent play.\n",
    "    \"\"\"\n",
    "    \n",
    "    def __init__(self, dice: list):\n",
    "        \"\"\"\n",
    "        Initializes a game with a list of die objects.\n",
    "        \n",
    "        Arguments:\n",
    "            dice (list): list of die objects.\n",
    "        \n",
    "        Raises:\n",
    "            TypeError: If elements in the list are not die objects.\n",
    "        \"\"\"\n",
    "        \n",
    "        if not all(hasattr(d, 'roll') and hasattr(d, 'show') for d in dice):\n",
    "            raise TypeError(\"All items in dice must be die objects\")\n",
    "        self._dice = dice\n",
    "        self._results = None\n",
    "                \n",
    "    def play(self, n_rolls: int):\n",
    "        \"\"\"\n",
    "        Rolls all dice given a number of times and save the results.\n",
    "        \n",
    "        Arguments:\n",
    "            n_rolls (int): Number of times to roll all dice. \n",
    "        \"\"\"\n",
    "        rolls = {}\n",
    "        for i, die in enumerate(self._dice):\n",
    "            rolls[i] = die.roll(n_rolls)\n",
    "                   \n",
    "        self._results = pd.DataFrame(rolls)\n",
    "        self._results.index.name = \"roll_number\"\n",
    "                   \n",
    "    def show(self, form = 'wide'):\n",
    "        \"\"\"\n",
    "        Returns the results of the most recent play.\n",
    "        \n",
    "        Arguments:\n",
    "            form (str): 'wide' (default) or 'narrow' format.\n",
    "        \n",
    "        Returns:\n",
    "            DataFrame: Results in the requested format.\n",
    "            \n",
    "        Raises: \n",
    "            ValueError: If form is not 'wide' or 'narrow'.\n",
    "        \"\"\"\n",
    "        \n",
    "        if self._results is None:\n",
    "            raise ValueError(\"No results available. Run play() first.\")\n",
    "        if form == 'wide':\n",
    "            return self._results.copy()\n",
    "        elif form == 'narrow':\n",
    "            return self._results.stack().to_frame('outcome')\n",
    "        else: \n",
    "            raise ValueError(\"Form must be 'wide' or 'narrow'.\")\n",
    "```            \n",
    "```           \n",
    "class Analyzer:\n",
    "    \"\"\"\n",
    "    An analyzer object takes the results of a single game and computes various descriptive statistical properties about it.\n",
    "    \n",
    "    Attributes:\n",
    "        _game (Game): The game object to analyze.\n",
    "        _face_counts_per_roll (DataFrame): Data frame of face counts per roll.\n",
    "    \"\"\"\n",
    "    def __init__(self, game):\n",
    "        \"\"\"\n",
    "        Initializes analyzer with a Game object.\n",
    "        \n",
    "        Arguments:\n",
    "            game (Game): A game object that has been played\n",
    "            \n",
    "        Raises: \n",
    "            ValueError: If the provided object is not an instance of game.\n",
    "        \"\"\"\n",
    "        \n",
    "        if not hasattr(game, 'show'):\n",
    "            raise ValueError(\"Input must be a Game object.\")\n",
    "        self._game = game\n",
    "        self._results = game.show('wide')\n",
    "        self._face_counts_per_roll = None\n",
    "    \n",
    "    def jackpot(self):\n",
    "        \"\"\"\n",
    "        Counts how many rolls had all dice showing the same face.\n",
    "        \n",
    "        Returns:\n",
    "            int: Number of jackpots.\n",
    "        \"\"\"\n",
    "        \n",
    "        return (self._results.nunique(axis = 1) == 1).sum()\n",
    "    \n",
    "    def face_counts_per_roll(self):\n",
    "        \"\"\"\n",
    "        Counts how many times each face appeared in each roll.\n",
    "        \n",
    "        Returns:\n",
    "            DataFrame: Rolls are row numbers, columns are the face values, and the cells are counts.\n",
    "        \"\"\"\n",
    "        \n",
    "        counts = self._results.apply(pd.Series.value_counts, axis = 1).fillna(0).astype(int)\n",
    "        self._face_counts_per_roll = counts\n",
    "        return counts\n",
    "    \n",
    "    def combo_count(self):\n",
    "        \"\"\" \n",
    "        Computes counts of unique face combinations (order-independent).\n",
    "        \n",
    "        Returns:\n",
    "            DataFrame: MultiIndex of combinations, with a column for their counts.\n",
    "        \"\"\"\n",
    "        \n",
    "        combos = self._results.apply(lambda row: tuple(sorted(row)), axis = 1)\n",
    "        combo_counts = combos.value_counts().to_frame(name = 'count')\n",
    "        combo_counts.index.name = 'combo'\n",
    "        return combo_counts\n",
    "    \n",
    "    def permutation_count(self):\n",
    "        \"\"\"\n",
    "        Computes counts of unique combinations (order-dependent).\n",
    "        \n",
    "        Returns: \n",
    "            DataFrame: MultiIndex of permutations, with a column for their counts.\n",
    "        \"\"\"\n",
    "        \n",
    "        perms = self._results.apply(lambda row: tuple(row), axis = 1)\n",
    "        perm_counts = perms.value_counts().to_frame(name = 'count')\n",
    "        perm_counts.index.name = 'permutation'\n",
    "        return perm_counts\n",
    "```"
   ]
  },
  {
   "cell_type": "markdown",
   "id": "6377727a-8f0a-491e-9f1c-d9dc225edd35",
   "metadata": {},
   "source": [
    "## Unitest Module (2)\n",
    "\n",
    "Paste a copy of your test module below.\n",
    "\n",
    "NOTE: Paste as text, not as code. Use triple backticks to wrap your code blocks.\n",
    "\n",
    "- All methods have at least one test method (1).\n",
    "- Each method employs one of Unittest's Assert methods (1)."
   ]
  },
  {
   "cell_type": "markdown",
   "id": "35c2b0d3-ab21-4082-92dc-fe8e7380d4f6",
   "metadata": {},
   "source": [
    "```\n",
    "import unittest\n",
    "import numpy as np\n",
    "import pandas as pd\n",
    "from MonteCarlo import Die, Game, Analyzer\n",
    "```\n",
    "```\n",
    "class TestDie(unittest.TestCase):\n",
    "    \n",
    "    def setUp(self):\n",
    "        self.faces = np.array([1, 2, 3])\n",
    "        self.die = Die(self.faces)\n",
    "        \n",
    "    def test_init_creates_dataframe(self):\n",
    "        result = self.die.show()\n",
    "        self.assertIsInstance(result, pd.DataFrame)\n",
    "        self.assertEqual(set(result.columns), {'weight'})\n",
    "        self.assertTrue((result['weight'] == 1.0).all())\n",
    "    \n",
    "    def test_change_weight_valid(self):\n",
    "        self.die.change_weight(2, 3.5)\n",
    "        result = self.die.show()\n",
    "        self.assertEqual(result.loc[2, 'weight'], 3.5)\n",
    "    \n",
    "    def test_show_returns_dataframe(self):\n",
    "        self.assertIsInstance(self.die.show(), pd.DataFrame)\n",
    "```\n",
    "```\n",
    "class TestGame(unittest.TestCase):\n",
    "    \n",
    "    def setUp(self):\n",
    "        self.dice = [Die(np.array(['H', 'T'])) for _ in range(3)]\n",
    "        self.game = Game(self.dice)\n",
    "        self.game.play(5)\n",
    "    \n",
    "    def test_play_creates_dataframe(self):\n",
    "        result = self.game.show()\n",
    "        self.assertIsInstance(result, pd.DataFrame)\n",
    "        self.assertEqual(result.shape[0], 5)\n",
    "                        \n",
    "    def test_show_wide_format(self):\n",
    "        wide = self.game.show('wide')\n",
    "        self.assertIsInstance(wide, pd.DataFrame)\n",
    "                        \n",
    "    def test_show_narrow_format(self):\n",
    "        narrow = self.game.show('narrow')\n",
    "        self.assertIsInstance(narrow, pd.DataFrame)\n",
    "        self.assertEqual(narrow.columns.tolist(), ['outcome'])\n",
    "    \n",
    "    def test_show_invalid_format_raises(self):\n",
    "        with self.assertRaises(ValueError):\n",
    "            self.game.show('invalid')\n",
    " ```\n",
    " ```\n",
    "class TestAnalyzer(unittest.TestCase):\n",
    "        \n",
    "    def setUp(self):\n",
    "        self.dice = [Die(np.array(['A', 'B'])) for _ in range(2)]\n",
    "        self.game = Game(self.dice)\n",
    "        self.game.play(10)\n",
    "        self.analyzer = Analyzer(self.game)\n",
    "                        \n",
    "    def test_jackpot_returns_int(self):\n",
    "        result = self.analyzer.jackpot()\n",
    "        self.assertTrue(isinstance(result, (int, np.integer)))\n",
    "                        \n",
    "    def test_face_counts_returns_dataframe(self):\n",
    "        result = self.analyzer.face_counts_per_roll()\n",
    "        self.assertIsInstance(result, pd.DataFrame)\n",
    "        self.assertEqual(result.shape[0], 10)\n",
    "                        \n",
    "    def test_combo_count_returns_dataframe(self):\n",
    "        df = self.analyzer.combo_count()\n",
    "        self.assertIsInstance(df, pd.DataFrame)\n",
    "        self.assertIn('count', df.columns)\n",
    "        \n",
    "    def test_permutation_count_returns_dataframe(self):\n",
    "        df = self.analyzer.permutation_count()\n",
    "        self.assertIsInstance(df, pd.DataFrame)\n",
    "        self.assertIn('count', df.columns)\n",
    "```\n",
    "```\n",
    "if __name__ == '__main__':\n",
    "    unittest.main()\n",
    "```"
   ]
  },
  {
   "cell_type": "markdown",
   "id": "3e058d03-29bc-408f-b36d-0605b4f4b8c0",
   "metadata": {
    "tags": []
   },
   "source": [
    "## Unittest Results (3)\n",
    "\n",
    "Put a copy of the results of running your tests from the command line here.\n",
    "\n",
    "Again, paste as text using triple backticks.\n",
    "\n",
    "- All 12 specified methods return OK (3; .25 each)."
   ]
  },
  {
   "cell_type": "markdown",
   "id": "bb6bd08c-9993-4a13-b204-1e3bf5bf6577",
   "metadata": {
    "tags": []
   },
   "source": [
    "'''\n",
    "from montecarlo.montecarlo import Die, Game, Analyzer\n",
    "'''\n",
    "\n",
    "```\n",
    "!python Testing.py\n",
    "```\n",
    "\n",
    "```\n",
    "...........\n",
    "----------------------------------------------------------------------\n",
    "Ran 11 tests in 0.024s\n",
    "\n",
    "OK\n",
    "```"
   ]
  },
  {
   "cell_type": "markdown",
   "id": "d9ffe8c5-eb2f-4ad1-af76-a46550e4c7ac",
   "metadata": {},
   "source": [
    "## Import (1)\n",
    "\n",
    "Import your module here. This import should refer to the code in your package directory.\n",
    "\n",
    "- Module successuflly imported (1)."
   ]
  },
  {
   "cell_type": "code",
   "execution_count": 1,
   "id": "a05dffb3-e6d6-4f78-9df4-5abd0cf74ca9",
   "metadata": {
    "tags": []
   },
   "outputs": [],
   "source": [
    "from montecarlo.montecarlo import Die, Game, Analyzer"
   ]
  },
  {
   "cell_type": "markdown",
   "id": "f30c4842-65b1-4556-98b6-3fe1a07e1371",
   "metadata": {},
   "source": [
    "## Help Docs (4)\n",
    "\n",
    "Show your docstring documentation by applying `help()` to your imported module.\n",
    "\n",
    "- All methods have a docstring (3; .25 each).\n",
    "- All classes have a docstring (1; .33 each)."
   ]
  },
  {
   "cell_type": "code",
   "execution_count": 4,
   "id": "bf4fbf1f-9885-471c-a0a6-e9ca90e160de",
   "metadata": {
    "tags": []
   },
   "outputs": [
    {
     "name": "stdout",
     "output_type": "stream",
     "text": [
      "Help on class Die in module montecarlo.montecarlo:\n",
      "\n",
      "class Die(builtins.object)\n",
      " |  Die(faces: numpy.ndarray)\n",
      " |  \n",
      " |   A die with N faces, each with a weight.\n",
      " |   \n",
      " |  Attributes:\n",
      " |      _df(DataFrame) : Internal data frame with faces as index and weights as the columns.\n",
      " |  \n",
      " |  Methods defined here:\n",
      " |  \n",
      " |  __init__(self, faces: numpy.ndarray)\n",
      " |      Initialized the die with a NumPy array of faces.\n",
      " |      \n",
      " |      Arguments:\n",
      " |          faces (np.ndarray): An array of unique face values (Can be numeric or string).\n",
      " |      \n",
      " |      Raises: \n",
      " |          TypeError: If input is not a NumPy array.\n",
      " |          ValueError: If array elements are not unique.\n",
      " |  \n",
      " |  change_weight(self, face, weight)\n",
      " |      Changes the weight of a specific face.\n",
      " |      \n",
      " |      Arguments:\n",
      " |          face: A face value in the die.\n",
      " |          weight: A numeric value.\n",
      " |      \n",
      " |      Raises:\n",
      " |          IndexError: If the face is not in the die.\n",
      " |          Type Error: If the weight is not numeric.\n",
      " |  \n",
      " |  roll(self, n_rolls=1)\n",
      " |      Rolls the die n times using the current weights.\n",
      " |      \n",
      " |      Arguments:\n",
      " |          n_rolls (int): Number of times to roll (default = 1).\n",
      " |      \n",
      " |      Returns:\n",
      " |          list: List of outcomes.\n",
      " |  \n",
      " |  show(self)\n",
      " |      Shows current faces and weights of the die.\n",
      " |      \n",
      " |      Returns:\n",
      " |          DataFrame: copy of internal state.\n",
      " |  \n",
      " |  ----------------------------------------------------------------------\n",
      " |  Data descriptors defined here:\n",
      " |  \n",
      " |  __dict__\n",
      " |      dictionary for instance variables (if defined)\n",
      " |  \n",
      " |  __weakref__\n",
      " |      list of weak references to the object (if defined)\n",
      "\n",
      "Help on class Game in module montecarlo.montecarlo:\n",
      "\n",
      "class Game(builtins.object)\n",
      " |  Game(dice: list)\n",
      " |  \n",
      " |  A game consists of rolling one or more dice 1+ times.\n",
      " |  \n",
      " |  Attributes:\n",
      " |      _dice (list): List of die objects.\n",
      " |      _results (DataFrame): Data frame storing results of the most recent play.\n",
      " |  \n",
      " |  Methods defined here:\n",
      " |  \n",
      " |  __init__(self, dice: list)\n",
      " |      Initializes a game with a list of die objects.\n",
      " |      \n",
      " |      Arguments:\n",
      " |          dice (list): list of die objects.\n",
      " |      \n",
      " |      Raises:\n",
      " |          TypeError: If elements in the list are not die objects.\n",
      " |  \n",
      " |  play(self, n_rolls: int)\n",
      " |      Rolls all dice given a number of times and save the results.\n",
      " |      \n",
      " |      Arguments:\n",
      " |          n_rolls (int): Number of times to roll all dice.\n",
      " |  \n",
      " |  show(self, form='wide')\n",
      " |      Returns the results of the most recent play.\n",
      " |      \n",
      " |      Arguments:\n",
      " |          form (str): 'wide' (default) or 'narrow' format.\n",
      " |      \n",
      " |      Returns:\n",
      " |          DataFrame: Results in the requested format.\n",
      " |          \n",
      " |      Raises: \n",
      " |          ValueError: If form is not 'wide' or 'narrow'.\n",
      " |  \n",
      " |  ----------------------------------------------------------------------\n",
      " |  Data descriptors defined here:\n",
      " |  \n",
      " |  __dict__\n",
      " |      dictionary for instance variables (if defined)\n",
      " |  \n",
      " |  __weakref__\n",
      " |      list of weak references to the object (if defined)\n",
      "\n",
      "Help on class Analyzer in module montecarlo.montecarlo:\n",
      "\n",
      "class Analyzer(builtins.object)\n",
      " |  Analyzer(game)\n",
      " |  \n",
      " |  An analyzer object takes the results of a single game and computes various descriptive statistical properties about it.\n",
      " |  \n",
      " |  Attributes:\n",
      " |      _game (Game): The game object to analyze.\n",
      " |      _face_counts_per_roll (DataFrame): Data frame of face counts per roll.\n",
      " |  \n",
      " |  Methods defined here:\n",
      " |  \n",
      " |  __init__(self, game)\n",
      " |      Initializes analyzer with a Game object.\n",
      " |      \n",
      " |      Arguments:\n",
      " |          game (Game): A game object that has been played\n",
      " |          \n",
      " |      Raises: \n",
      " |          ValueError: If the provided object is not an instance of game.\n",
      " |  \n",
      " |  combo_count(self)\n",
      " |      Computes counts of unique face combinations (order-independent).\n",
      " |      \n",
      " |      Returns:\n",
      " |          DataFrame: MultiIndex of combinations, with a column for their counts.\n",
      " |  \n",
      " |  face_counts_per_roll(self)\n",
      " |      Counts how many times each face appeared in each roll.\n",
      " |      \n",
      " |      Returns:\n",
      " |          DataFrame: Rolls are row numbers, columns are the face values, and the cells are counts.\n",
      " |  \n",
      " |  jackpot(self)\n",
      " |      Counts how many rolls had all dice showing the same face.\n",
      " |      \n",
      " |      Returns:\n",
      " |          int: Number of jackpots.\n",
      " |  \n",
      " |  permutation_count(self)\n",
      " |      Computes counts of unique combinations (order-dependent).\n",
      " |      \n",
      " |      Returns: \n",
      " |          DataFrame: MultiIndex of permutations, with a column for their counts.\n",
      " |  \n",
      " |  ----------------------------------------------------------------------\n",
      " |  Data descriptors defined here:\n",
      " |  \n",
      " |  __dict__\n",
      " |      dictionary for instance variables (if defined)\n",
      " |  \n",
      " |  __weakref__\n",
      " |      list of weak references to the object (if defined)\n",
      "\n"
     ]
    }
   ],
   "source": [
    "help(Die)\n",
    "help(Game)\n",
    "help(Analyzer)"
   ]
  },
  {
   "cell_type": "markdown",
   "id": "a9defa84-b395-4966-bd1c-5c6c2bb7ed68",
   "metadata": {},
   "source": [
    "## `README.md` File (3)\n",
    "\n",
    "Provide link to the README.md file of your project's repo.\n",
    "\n",
    "- Metadata section or info present (1).\n",
    "- Synopsis section showing how each class is called (1). (All must be included.)\n",
    "- API section listing all classes and methods (1). (All must be included.)"
   ]
  },
  {
   "cell_type": "markdown",
   "id": "ee090b33-d593-48a0-bf35-e739cea0942c",
   "metadata": {},
   "source": [
    "URL: https://github.com/mollyshand/DS5100-FinalProject/blob/main/README.md"
   ]
  },
  {
   "cell_type": "markdown",
   "id": "108604c8-8827-42ef-ab59-6b25428fc0ca",
   "metadata": {
    "tags": []
   },
   "source": [
    "## Successful installation (2)\n",
    "\n",
    "Put a screenshot or paste a copy of a terminal session where you successfully install your module with pip.\n",
    "\n",
    "If pasting text, use a preformatted text block to show the results.\n",
    "\n",
    "- Installed with `pip` (1).\n",
    "- Successfully installed message appears (1)."
   ]
  },
  {
   "cell_type": "markdown",
   "id": "465f3554-44fc-465a-b139-0103d3f46df4",
   "metadata": {},
   "source": [
    "\n",
    "-bash-4.4$ pwd\n",
    "/home/sth5nz/Documents/MSDS/DS5100/DS5100_FinalProject\n",
    "-bash-4.4$ pip install .\n",
    "\n",
    "Defaulting to user installation because normal site-packages is not writeable\n",
    "Processing /sfs/gpfs/tardis/home/sth5nz/Documents/MSDS/DS5100/DS5100_FinalProject\n",
    "  Preparing metadata (setup.py) ... done\n",
    "Requirement already satisfied: numpy in /usr/lib64/python3.6/site-packages (from montec\n",
    "arlo==1) (1.14.3)\n",
    "Collecting pandas\n",
    "  Downloading pandas-1.1.5-cp36-cp36m-manylinux1_x86_64.whl (9.5 MB)\n",
    "     |████████████████████████████████| 9.5 MB 17.3 MB/s            \n",
    "Collecting numpy\n",
    "  Downloading numpy-1.19.5-cp36-cp36m-manylinux2010_x86_64.whl (14.8 MB)\n",
    "     |████████████████████████████████| 14.8 MB 138.6 MB/s            \n",
    "Requirement already satisfied: pytz>=2017.2 in /usr/lib/python3.6/site-packages (from p\n",
    "andas->montecarlo==1) (2017.2)\n",
    "Collecting python-dateutil>=2.7.3\n",
    "  Downloading python_dateutil-2.9.0.post0-py2.py3-none-any.whl (229 kB)\n",
    "     |████████████████████████████████| 229 kB 153.2 MB/s            \n",
    "Requirement already satisfied: six>=1.5 in /usr/lib/python3.6/site-packages (from pytho\n",
    "n-dateutil>=2.7.3->pandas->montecarlo==1) (1.11.0)\n",
    "Using legacy 'setup.py install' for montecarlo, since package 'wheel' is not installed.\n",
    "Installing collected packages: python-dateutil, numpy, pandas, montecarlo\n",
    "  WARNING: The scripts f2py, f2py3 and f2py3.6 are installed in '/home/sth5nz/.local/bi\n",
    "n' which is not on PATH.\n",
    "  Consider adding this directory to PATH or, if you prefer to suppress this warning, us\n",
    "e --no-warn-script-location.\n",
    "    Running setup.py install for montecarlo ... done\n",
    "    \n",
    "    \n",
    "Successfully installed montecarlo-1 numpy-1.19.5 pandas-1.1.5 python-dateutil-2.9.0.pos\n",
    "t0\n",
    "-bash-4.4$"
   ]
  },
  {
   "cell_type": "markdown",
   "id": "7c44695d-d1b3-4edf-9f94-e64d7446f199",
   "metadata": {},
   "source": [
    "# Scenarios\n",
    "\n",
    "Use code blocks to perform the tasks for each scenario.\n",
    "\n",
    "Be sure the outputs are visible before submitting."
   ]
  },
  {
   "cell_type": "markdown",
   "id": "e2479eae-6fc9-44cd-b8d7-9b22cb501f2a",
   "metadata": {
    "tags": []
   },
   "source": [
    "## Scenario 1: A 2-headed Coin (9)\n",
    "\n",
    "Task 1. Create a fair coin (with faces $H$ and $T$) and one unfair coin in which one of the faces has a weight of $5$ and the others $1$.\n",
    "\n",
    "- Fair coin created (1).\n",
    "- Unfair coin created with weight as specified (1)."
   ]
  },
  {
   "cell_type": "code",
   "execution_count": 14,
   "id": "55ce498e-c75f-4425-9e3e-b635bd6cd9e1",
   "metadata": {},
   "outputs": [
    {
     "name": "stdout",
     "output_type": "stream",
     "text": [
      "Fair Coin Created!\n",
      "      weight\n",
      "face        \n",
      "H        1.0\n",
      "T        1.0\n",
      "\n",
      "Unfair coin created with weight as specified\n",
      "      weight\n",
      "face        \n",
      "H        5.0\n",
      "T        1.0\n"
     ]
    }
   ],
   "source": [
    "import numpy as np\n",
    "from montecarlo.montecarlo import Die, Game, Analyzer\n",
    "\n",
    "fair_coin = Die(np.array(['H', 'T']))\n",
    "\n",
    "unfair_coin = Die(np.array(['H', 'T']))\n",
    "unfair_coin.change_weight('H', 5)\n",
    "\n",
    "print(\"Fair Coin Created!\")\n",
    "print(fair_coin.show())\n",
    "\n",
    "print(\"\\nUnfair coin created with weight as specified\")\n",
    "print(unfair_coin.show())"
   ]
  },
  {
   "cell_type": "markdown",
   "id": "02b272ab-99da-4b6e-ac2a-555b73e09c07",
   "metadata": {},
   "source": [
    "Task 2. Play a game of $1000$ flips with two fair dice.\n",
    "\n",
    "- Play method called correclty and without error (1)."
   ]
  },
  {
   "cell_type": "code",
   "execution_count": 15,
   "id": "65c92601-d32d-4326-b215-74953aee27f2",
   "metadata": {},
   "outputs": [
    {
     "name": "stdout",
     "output_type": "stream",
     "text": [
      "First 5 results:\n",
      "             0  1\n",
      "roll_number      \n",
      "0            T  H\n",
      "1            H  H\n",
      "2            H  H\n",
      "3            H  T\n",
      "4            H  T\n"
     ]
    }
   ],
   "source": [
    "coin1 = Die(np.array(['H', 'T']))\n",
    "coin2 = Die(np.array(['H', 'T']))\n",
    "\n",
    "game1 = Game([coin1, coin2])\n",
    "game1.play(1000)\n",
    "\n",
    "print(\"First 5 results:\")\n",
    "print(game1.show().head())"
   ]
  },
  {
   "cell_type": "markdown",
   "id": "7d9c3dc8-22c1-4cae-81fb-d68d774a05d1",
   "metadata": {},
   "source": [
    "Task 3. Play another game (using a new Game object) of $1000$ flips, this time using two unfair dice and one fair die. For the second unfair die, you can use the same die object twice in the list of dice you pass to the Game object.\n",
    "\n",
    "- New game object created (1).\n",
    "- Play method called correclty and without error (1)."
   ]
  },
  {
   "cell_type": "code",
   "execution_count": 13,
   "id": "d4098bed-1eb2-4084-8d5e-9fda07c3be43",
   "metadata": {},
   "outputs": [
    {
     "name": "stdout",
     "output_type": "stream",
     "text": [
      "First 5 results:\n",
      "             0  1  2\n",
      "roll_number         \n",
      "0            T  H  H\n",
      "1            T  H  T\n",
      "2            T  H  H\n",
      "3            H  H  H\n",
      "4            H  H  H\n"
     ]
    }
   ],
   "source": [
    "unfair_die = Die(np.array(['H', 'T']))\n",
    "unfair_die.change_weight('H', 5)\n",
    "\n",
    "fair_die = Die(np.array(['H', 'T']))\n",
    "\n",
    "dice = [unfair_die, unfair_die, fair_die]\n",
    "game2 = Game(dice)\n",
    "\n",
    "game2.play(1000)\n",
    "\n",
    "print(\"First 5 results:\")\n",
    "print(game2.show().head())"
   ]
  },
  {
   "cell_type": "markdown",
   "id": "f690ebfc-fe71-4eb2-976d-7ac80ca6c23f",
   "metadata": {},
   "source": [
    "Task 4. For each game, use an Analyzer object to determine the raw frequency of jackpots — i.e. getting either all $H$s or all $T$s.\n",
    "\n",
    "- Analyzer objecs instantiated for both games (1).\n",
    "- Raw frequencies reported for both (1)."
   ]
  },
  {
   "cell_type": "code",
   "execution_count": 16,
   "id": "b26b8b7e-3be7-4476-a9a4-37d97536729e",
   "metadata": {},
   "outputs": [
    {
     "name": "stdout",
     "output_type": "stream",
     "text": [
      "Jackpots in Game 1 (2 fair dice): 484\n",
      "Jackpots in Game 2 (2 unfair dice, 1 fair die): 336\n"
     ]
    }
   ],
   "source": [
    "analyzer1 = Analyzer(game1)\n",
    "jackpots1 = analyzer1.jackpot()\n",
    "print(f\"Jackpots in Game 1 (2 fair dice): {jackpots1}\")\n",
    "\n",
    "analyzer2 = Analyzer(game2)\n",
    "jackpots2 = analyzer2.jackpot()\n",
    "print(f\"Jackpots in Game 2 (2 unfair dice, 1 fair die): {jackpots2}\")"
   ]
  },
  {
   "cell_type": "markdown",
   "id": "b73d233c-445e-40cd-8858-0c5e1f097105",
   "metadata": {},
   "source": [
    "Task 5. For each analyzer, compute relative frequency as the number of jackpots over the total number of rolls.\n",
    "\n",
    "- Both relative frequencies computed (1)."
   ]
  },
  {
   "cell_type": "code",
   "execution_count": 17,
   "id": "9a96b31b-1b9d-496e-be3e-4bf83c45ec3a",
   "metadata": {},
   "outputs": [
    {
     "name": "stdout",
     "output_type": "stream",
     "text": [
      "Relative frequency of Jackpots in Game 1:  0.48\n",
      "Relative frequency of Jackpots in Game 2:  0.34\n"
     ]
    }
   ],
   "source": [
    "total_rolls = 1000\n",
    "\n",
    "rel_freq1 = jackpots1 / total_rolls\n",
    "print(f\"Relative frequency of Jackpots in Game 1: {rel_freq1: .2f}\")\n",
    "\n",
    "rel_freq2 = jackpots2 / total_rolls\n",
    "print(f\"Relative frequency of Jackpots in Game 2: {rel_freq2: .2f}\")"
   ]
  },
  {
   "cell_type": "markdown",
   "id": "a6e1e734-7f5c-4721-8ba4-2f3a424cf984",
   "metadata": {},
   "source": [
    "Task 6. Show your results, comparing the two relative frequencies, in a simple bar chart.\n",
    "\n",
    "- Bar chart plotted and correct (1)."
   ]
  },
  {
   "cell_type": "code",
   "execution_count": 18,
   "id": "473fa67c-aa53-4aa3-a0b7-e8772b3f6ed3",
   "metadata": {},
   "outputs": [
    {
     "data": {
      "image/png": "[encoded data removed]",
      "text/plain": [
       "<Figure size 640x480 with 1 Axes>"
      ]
     },
     "metadata": {},
     "output_type": "display_data"
    }
   ],
   "source": [
    "import matplotlib.pyplot as plt\n",
    "\n",
    "rel_freq_game1 = analyzer1.jackpot() / 1000\n",
    "rel_freq_game2 = analyzer2.jackpot() / 1000\n",
    "\n",
    "plt.bar(['Fair Dice Game', 'Mixed Dice Game'], [rel_freq_game1, rel_freq_game2], color = ['lightblue', 'lightgreen'])\n",
    "plt.ylabel('Relative Frequency of Jackpots')\n",
    "plt.xlabel('Comparison of Jackpot Rates')\n",
    "\n",
    "plt.show()\n",
    "        "
   ]
  },
  {
   "cell_type": "markdown",
   "id": "725cfa5b-e4b7-47c9-86aa-8d9e1fe6c8c7",
   "metadata": {},
   "source": [
    "## Scenario 2: A 6-sided Die (9)\n",
    "\n",
    "Task 1. Create three dice, each with six sides having the faces 1 through 6.\n",
    "\n",
    "- Three die objects created (1)."
   ]
  },
  {
   "cell_type": "code",
   "execution_count": 27,
   "id": "6a8bc611-325a-4e05-88d5-980e0a2cf7c5",
   "metadata": {},
   "outputs": [
    {
     "name": "stdout",
     "output_type": "stream",
     "text": [
      "      weight\n",
      "face        \n",
      "1        1.0\n",
      "2        1.0\n",
      "3        1.0\n",
      "4        1.0\n",
      "5        1.0\n",
      "6        1.0\n",
      "      weight\n",
      "face        \n",
      "1        1.0\n",
      "2        1.0\n",
      "3        1.0\n",
      "4        1.0\n",
      "5        1.0\n",
      "6        1.0\n",
      "      weight\n",
      "face        \n",
      "1        1.0\n",
      "2        1.0\n",
      "3        1.0\n",
      "4        1.0\n",
      "5        1.0\n",
      "6        1.0\n"
     ]
    }
   ],
   "source": [
    "dice1 = Die(np.array([1, 2, 3, 4, 5, 6]))\n",
    "dice2 = Die(np.array([1, 2, 3, 4, 5, 6]))\n",
    "dice3 = Die(np.array([1, 2, 3, 4, 5, 6]))\n",
    "\n",
    "print(dice1.show())\n",
    "print(dice2.show())\n",
    "print(dice3.show())"
   ]
  },
  {
   "cell_type": "markdown",
   "id": "2ed3ad26-fbe9-43bd-9ad7-f683a4191d12",
   "metadata": {},
   "source": [
    "Task 2. Convert one of the dice to an unfair one by weighting the face $6$ five times more than the other weights (i.e. it has weight of 5 and the others a weight of 1 each).\n",
    "\n",
    "- Unfair die created with proper call to weight change method (1)."
   ]
  },
  {
   "cell_type": "code",
   "execution_count": 28,
   "id": "e33dd18f-7f90-456d-a680-61c08a328e21",
   "metadata": {},
   "outputs": [
    {
     "name": "stdout",
     "output_type": "stream",
     "text": [
      "      weight\n",
      "face        \n",
      "1        1.0\n",
      "2        1.0\n",
      "3        1.0\n",
      "4        1.0\n",
      "5        1.0\n",
      "6        1.0\n",
      "      weight\n",
      "face        \n",
      "1        1.0\n",
      "2        1.0\n",
      "3        1.0\n",
      "4        1.0\n",
      "5        1.0\n",
      "6        5.0\n"
     ]
    }
   ],
   "source": [
    "fair_dice = Die(np.array([1, 2, 3, 4, 5, 6]))\n",
    "\n",
    "unfair_dice1 = Die(np.array([1, 2, 3, 4, 5, 6]))\n",
    "unfair_dice1.change_weight(6, 5)\n",
    "\n",
    "print(fair_dice.show())\n",
    "print(unfair_dice1.show())"
   ]
  },
  {
   "cell_type": "markdown",
   "id": "7f6c062a-4c5b-45b9-96b8-76a0354c7e47",
   "metadata": {},
   "source": [
    "Task 3. Convert another of the dice to be unfair by weighting the face $1$ five times more than the others.\n",
    "\n",
    "- Unfair die created with proper call to weight change method (1)."
   ]
  },
  {
   "cell_type": "code",
   "execution_count": 29,
   "id": "01133a4e-6b06-4246-8d90-8e6d6995be51",
   "metadata": {},
   "outputs": [
    {
     "name": "stdout",
     "output_type": "stream",
     "text": [
      "      weight\n",
      "face        \n",
      "1        1.0\n",
      "2        1.0\n",
      "3        1.0\n",
      "4        1.0\n",
      "5        1.0\n",
      "6        1.0\n",
      "      weight\n",
      "face        \n",
      "1        1.0\n",
      "2        1.0\n",
      "3        1.0\n",
      "4        1.0\n",
      "5        1.0\n",
      "6        5.0\n",
      "      weight\n",
      "face        \n",
      "1        5.0\n",
      "2        1.0\n",
      "3        1.0\n",
      "4        1.0\n",
      "5        1.0\n",
      "6        1.0\n"
     ]
    }
   ],
   "source": [
    "unfair_dice2 = Die(np.array([1, 2, 3, 4, 5, 6]))\n",
    "unfair_dice2.change_weight(1, 5)\n",
    "\n",
    "print(fair_dice.show())\n",
    "print(unfair_dice1.show())\n",
    "print(unfair_dice2.show())"
   ]
  },
  {
   "cell_type": "markdown",
   "id": "f0ed31cb-0a3c-4eb2-b85e-6ed6b2eb6e58",
   "metadata": {},
   "source": [
    "Task 4. Play a game of $10000$ rolls with $5$ fair dice.\n",
    "\n",
    "- Game class properly instantiated (1). \n",
    "- Play method called properly (1)."
   ]
  },
  {
   "cell_type": "code",
   "execution_count": 30,
   "id": "e92395a4-9ed8-4cb0-8c85-38768a784ffc",
   "metadata": {},
   "outputs": [
    {
     "name": "stdout",
     "output_type": "stream",
     "text": [
      "First 5 results:\n",
      "             0  1  2\n",
      "roll_number         \n",
      "0            5  2  3\n",
      "1            1  5  1\n",
      "2            3  4  1\n",
      "3            6  1  3\n",
      "4            2  2  5\n"
     ]
    }
   ],
   "source": [
    "dice = [fair_dice, fair_dice, fair_dice]\n",
    "game3 = Game(dice)\n",
    "\n",
    "game3.play(10000)\n",
    "\n",
    "print(\"First 5 results:\")\n",
    "print(game3.show().head())"
   ]
  },
  {
   "cell_type": "markdown",
   "id": "7814b402-46a4-40e5-8141-20e05c3e646b",
   "metadata": {},
   "source": [
    "Task 5. Play another game of $10000$ rolls, this time with $2$ unfair dice, one as defined in steps #2 and #3 respectively, and $3$ fair dice.\n",
    "\n",
    "- Game class properly instantiated (1). \n",
    "- Play method called properly (1)."
   ]
  },
  {
   "cell_type": "code",
   "execution_count": 31,
   "id": "7cd58fba-b2a5-4d5d-bc6d-2a7a68d18c4f",
   "metadata": {},
   "outputs": [
    {
     "name": "stdout",
     "output_type": "stream",
     "text": [
      "First 5 results:\n",
      "             0  1  2\n",
      "roll_number         \n",
      "0            6  6  1\n",
      "1            4  1  2\n",
      "2            5  6  4\n",
      "3            5  5  3\n",
      "4            5  3  1\n"
     ]
    }
   ],
   "source": [
    "dice = [fair_dice, unfair_dice1, unfair_dice2]\n",
    "game4 = Game(dice)\n",
    "\n",
    "game4.play(10000)\n",
    "\n",
    "print(\"First 5 results:\")\n",
    "print(game4.show().head())"
   ]
  },
  {
   "cell_type": "markdown",
   "id": "7b6cd372-2bb8-4df8-ade1-8f48bc300955",
   "metadata": {},
   "source": [
    "Task 6. For each game, use an Analyzer object to determine the relative frequency of jackpots and show your results, comparing the two relative frequencies, in a simple bar chart.\n",
    "\n",
    "- Jackpot methods called (1).\n",
    "- Graph produced (1)."
   ]
  },
  {
   "cell_type": "code",
   "execution_count": 35,
   "id": "bbdcf695-8937-406e-9b53-aa0b9ee3c59a",
   "metadata": {},
   "outputs": [
    {
     "name": "stdout",
     "output_type": "stream",
     "text": [
      "Relative frequency of Jackpots in Game 3:  0.03\n",
      "Relative frequency of Jackpots in Game 4:  0.02\n"
     ]
    },
    {
     "data": {
      "image/png": "[encoded data removed]",
      "text/plain": [
       "<Figure size 640x480 with 1 Axes>"
      ]
     },
     "metadata": {},
     "output_type": "display_data"
    }
   ],
   "source": [
    "analyzer_fair = Analyzer(game3)\n",
    "analyzer_unfair = Analyzer(game4)\n",
    "\n",
    "jackpot_fair = analyzer_fair.jackpot()\n",
    "jackpot_unfair = analyzer_unfair.jackpot()\n",
    "\n",
    "total_rolls = 10000\n",
    "\n",
    "rel_freq_game3 = jackpot_fair / total_rolls\n",
    "print(f\"Relative frequency of Jackpots in Game 3: {rel_freq_game3: .2f}\")\n",
    "rel_freq_game4 = jackpot_unfair / total_rolls\n",
    "print(f\"Relative frequency of Jackpots in Game 4: {rel_freq_game4: .2f}\")\n",
    "\n",
    "plt.bar(['Fair Dice Game', 'Unfair Dice Game'], [rel_freq_game3, rel_freq_game4], color = ['lightblue', 'lightgreen'])\n",
    "plt.ylabel('Relative Frequency of Jackpots')\n",
    "plt.xlabel('Comparison of Jackpot Rates')\n",
    "\n",
    "plt.show()"
   ]
  },
  {
   "cell_type": "markdown",
   "id": "9f04e9be-8fcf-4ea4-a391-6614608285f8",
   "metadata": {},
   "source": [
    "## Scenario 3: Letters of the Alphabet (7)\n",
    "\n",
    "Task 1. Create a \"die\" of letters from $A$ to $Z$ with weights based on their frequency of usage as found in the data file `english_letters.txt`. Use the frequencies (i.e. raw counts) as weights.\n",
    "\n",
    "- Die correctly instantiated with source file data (1).\n",
    "- Weights properly applied using weight setting method (1)."
   ]
  },
  {
   "cell_type": "code",
   "execution_count": 39,
   "id": "b0ceb771-3cdf-4d8f-8c2c-020806bbb909",
   "metadata": {},
   "outputs": [
    {
     "name": "stdout",
     "output_type": "stream",
     "text": [
      "           weight\n",
      "face             \n",
      "E     529117365.0\n",
      "T     390965105.0\n",
      "A     374061888.0\n",
      "O     326627740.0\n",
      "I     320410057.0\n",
      "N     313720540.0\n",
      "S     294300210.0\n",
      "R     277000841.0\n",
      "H     216768975.0\n",
      "L     183996130.0\n",
      "D     169330528.0\n",
      "C     138416451.0\n",
      "U     117295780.0\n",
      "M     110504544.0\n",
      "F      95422055.0\n",
      "G      91258980.0\n",
      "P      90376747.0\n",
      "W      79843664.0\n",
      "Y      75294515.0\n",
      "B      70195826.0\n",
      "V      46337161.0\n",
      "K      35373464.0\n",
      "J       9613410.0\n",
      "X       8369915.0\n",
      "Z       4975847.0\n",
      "Q       4550166.0\n"
     ]
    }
   ],
   "source": [
    "letters = []\n",
    "counts = []\n",
    "with open('english_letters.txt', 'r') as f:\n",
    "          for line in f:\n",
    "              parts = line.strip().split()\n",
    "              if len(parts) != 2:\n",
    "                  continue\n",
    "              letter, count = parts\n",
    "              letters.append(letter)\n",
    "              counts.append(int(count))\n",
    "\n",
    "faces = np.array(letters)\n",
    "weights = np.array(counts, dtype = float)\n",
    "\n",
    "letter_die = Die(faces)\n",
    "for face, w in zip(faces, weights):\n",
    "        letter_die.change_weight(face, w)\n",
    "        \n",
    "print(letter_die.show())"
   ]
  },
  {
   "cell_type": "markdown",
   "id": "88e2e14a-6223-470a-a2c8-bca1120d7a5b",
   "metadata": {},
   "source": [
    "Task 2. Play a game involving $4$ of these dice with $1000$ rolls.\n",
    "\n",
    "- Game play method properly called (1)."
   ]
  },
  {
   "cell_type": "code",
   "execution_count": 41,
   "id": "2ae087cc-936d-4f1e-bddb-a7c179d139e0",
   "metadata": {},
   "outputs": [
    {
     "name": "stdout",
     "output_type": "stream",
     "text": [
      "             0  1  2  3\n",
      "roll_number            \n",
      "0            A  R  N  B\n",
      "1            E  E  C  O\n",
      "2            T  O  P  S\n",
      "3            F  N  S  A\n",
      "4            T  E  M  O\n"
     ]
    }
   ],
   "source": [
    "dice = [letter_die, letter_die, letter_die, letter_die]\n",
    "\n",
    "game_a = Game(dice)\n",
    "game_a.play(1000)\n",
    "\n",
    "print(game_a.show().head())"
   ]
  },
  {
   "cell_type": "markdown",
   "id": "3b9ff800-bf1f-4f66-9d7f-ff57a648e9f0",
   "metadata": {},
   "source": [
    "Task 3. Determine how many permutations in your results are actual English words, based on the vocabulary found in `scrabble_words.txt`.\n",
    "\n",
    "- Use permutation method (1).\n",
    "- Get count as difference between permutations and vocabulary (1)."
   ]
  },
  {
   "cell_type": "code",
   "execution_count": 46,
   "id": "ed1c7fa0-cfa3-4cf4-9fd0-9f84b86b0f64",
   "metadata": {},
   "outputs": [
    {
     "name": "stdout",
     "output_type": "stream",
     "text": [
      "Number of valid English word permutations: 57 out of 992\n"
     ]
    }
   ],
   "source": [
    "scrabble_words = set()\n",
    "with open('scrabble_words.txt', 'r') as file:\n",
    "    for line in file:\n",
    "        scrabble_words.add(line.strip().lower())\n",
    "\n",
    "game_b = Game([letter_die, letter_die, letter_die, letter_die])\n",
    "game_b.play(1000)\n",
    "\n",
    "analyzer_b = Analyzer(game_b)\n",
    "permutations_df = analyzer_b.permutation_count()\n",
    "\n",
    "permutations = [tuple(perm) for perm in permutations_df.index]\n",
    "valid_word_count = 1\n",
    "\n",
    "for perm in permutations:\n",
    "    word = ''.join(perm).lower()\n",
    "    if word in scrabble_words:\n",
    "        valid_word_count += 1\n",
    "\n",
    "print(f\"Number of valid English word permutations: {valid_word_count} out of {len(permutations)}\")"
   ]
  },
  {
   "cell_type": "markdown",
   "id": "fcf068cf-381a-4b3e-ac3a-0510eb4dbdb0",
   "metadata": {},
   "source": [
    "Task 4. Repeat steps #2 and #3, this time with $5$ dice. How many actual words does this produce? Which produces more?\n",
    "\n",
    "- Successfully repreats steps (1).\n",
    "- Identifies parameter with most found words (1)."
   ]
  },
  {
   "cell_type": "code",
   "execution_count": 47,
   "id": "1890d801-2578-4bf7-ae77-ecfc1b14242f",
   "metadata": {
    "tags": []
   },
   "outputs": [
    {
     "name": "stdout",
     "output_type": "stream",
     "text": [
      "Number of valid English word permutations: 6 out of 1000\n"
     ]
    }
   ],
   "source": [
    "game_c = Game([letter_die, letter_die, letter_die, letter_die, letter_die])\n",
    "\n",
    "game_c.play(1000)\n",
    "\n",
    "analyzer_c = Analyzer(game_c)\n",
    "permutations_c_df = analyzer_c.permutation_count()\n",
    "\n",
    "permutations_c = [tuple(perm) for perm in permutations_c_df.index]\n",
    "valid_word_count = 1\n",
    "\n",
    "for perm in permutations_c:\n",
    "    word = ''.join(perm).lower()\n",
    "    if word in scrabble_words:\n",
    "        valid_word_count += 1\n",
    "\n",
    "print(f\"Number of valid English word permutations: {valid_word_count} out of {len(permutations_c)}\")"
   ]
  },
  {
   "cell_type": "markdown",
   "id": "f6560a60-ecfb-4953-aae7-1014c78c3942",
   "metadata": {},
   "source": [
    "Our first game with 4 letter dice actually created more English words (57) than our game with 5 dice (6)."
   ]
  }
 ],
 "metadata": {
  "kernelspec": {
   "display_name": "Python 3 (ipykernel)",
   "language": "python",
   "name": "python3"
  },
  "language_info": {
   "codemirror_mode": {
    "name": "ipython",
    "version": 3
   },
   "file_extension": ".py",
   "mimetype": "text/x-python",
   "name": "python",
   "nbconvert_exporter": "python",
   "pygments_lexer": "ipython3",
   "version": "3.11.4"
  },
  "toc-autonumbering": true,
  "widgets": {
   "application/vnd.jupyter.widget-state+json": {
    "state": {},
    "version_major": 2,
    "version_minor": 0
   }
  }
 },
 "nbformat": 4,
 "nbformat_minor": 5
}
